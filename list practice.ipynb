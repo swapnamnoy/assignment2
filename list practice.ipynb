{
 "cells": [
  {
   "cell_type": "code",
   "execution_count": 1,
   "id": "64b08a67-8e73-430b-8c59-95e705116414",
   "metadata": {},
   "outputs": [],
   "source": [
    "l=[1,345,45,\"sudh\",True,5+7j,345.456]"
   ]
  },
  {
   "cell_type": "code",
   "execution_count": 3,
   "id": "c61d3f74-6e3c-4dce-8e0e-2cab7d1ea8af",
   "metadata": {},
   "outputs": [
    {
     "data": {
      "text/plain": [
       "list"
      ]
     },
     "execution_count": 3,
     "metadata": {},
     "output_type": "execute_result"
    }
   ],
   "source": [
    "type(l)"
   ]
  },
  {
   "cell_type": "code",
   "execution_count": 4,
   "id": "1c651931-f067-462d-8d6f-4fd7667df8c6",
   "metadata": {},
   "outputs": [
    {
     "data": {
      "text/plain": [
       "1"
      ]
     },
     "execution_count": 4,
     "metadata": {},
     "output_type": "execute_result"
    }
   ],
   "source": [
    "l[0]"
   ]
  },
  {
   "cell_type": "code",
   "execution_count": 5,
   "id": "34978d0f-6ccd-4e8d-b62f-9ab2c983d80a",
   "metadata": {},
   "outputs": [
    {
     "data": {
      "text/plain": [
       "True"
      ]
     },
     "execution_count": 5,
     "metadata": {},
     "output_type": "execute_result"
    }
   ],
   "source": [
    "l[4]"
   ]
  },
  {
   "cell_type": "code",
   "execution_count": 6,
   "id": "03af8a99-c573-4090-aab9-5d8aef5a35fb",
   "metadata": {},
   "outputs": [
    {
     "ename": "IndexError",
     "evalue": "list index out of range",
     "output_type": "error",
     "traceback": [
      "\u001b[0;31m---------------------------------------------------------------------------\u001b[0m",
      "\u001b[0;31mIndexError\u001b[0m                                Traceback (most recent call last)",
      "Cell \u001b[0;32mIn[6], line 1\u001b[0m\n\u001b[0;32m----> 1\u001b[0m \u001b[43ml\u001b[49m\u001b[43m[\u001b[49m\u001b[38;5;241;43m90\u001b[39;49m\u001b[43m]\u001b[49m\n",
      "\u001b[0;31mIndexError\u001b[0m: list index out of range"
     ]
    }
   ],
   "source": [
    "l[90]"
   ]
  },
  {
   "cell_type": "code",
   "execution_count": 7,
   "id": "38a550a8-347b-46a4-bd48-dbf7bde333ae",
   "metadata": {},
   "outputs": [
    {
     "data": {
      "text/plain": [
       "[1, 345, 45, 'sudh', True, (5+7j), 345.456]"
      ]
     },
     "execution_count": 7,
     "metadata": {},
     "output_type": "execute_result"
    }
   ],
   "source": [
    "l"
   ]
  },
  {
   "cell_type": "code",
   "execution_count": 8,
   "id": "823bf130-0623-4d6a-b854-3ec47f095f26",
   "metadata": {},
   "outputs": [
    {
     "data": {
      "text/plain": [
       "[1, 345, 45]"
      ]
     },
     "execution_count": 8,
     "metadata": {},
     "output_type": "execute_result"
    }
   ],
   "source": [
    "l[:3]"
   ]
  },
  {
   "cell_type": "code",
   "execution_count": 9,
   "id": "97e1d771-d755-4bc6-afd8-77445cdfefa7",
   "metadata": {},
   "outputs": [
    {
     "data": {
      "text/plain": [
       "345.456"
      ]
     },
     "execution_count": 9,
     "metadata": {},
     "output_type": "execute_result"
    }
   ],
   "source": [
    "l[-1]"
   ]
  },
  {
   "cell_type": "code",
   "execution_count": 10,
   "id": "6a76589b-f7e7-4b6c-9dd2-3dee813647a5",
   "metadata": {},
   "outputs": [
    {
     "data": {
      "text/plain": [
       "[345.456, (5+7j), True, 'sudh', 45, 345, 1]"
      ]
     },
     "execution_count": 10,
     "metadata": {},
     "output_type": "execute_result"
    }
   ],
   "source": [
    "l[::-1]"
   ]
  },
  {
   "cell_type": "code",
   "execution_count": 12,
   "id": "87266648-6e6c-4606-9e46-4d8488b311fa",
   "metadata": {},
   "outputs": [
    {
     "data": {
      "text/plain": [
       "[345.456, (5+7j), True, 'sudh', 45, 345, 1]"
      ]
     },
     "execution_count": 12,
     "metadata": {},
     "output_type": "execute_result"
    }
   ],
   "source": [
    "l[6::-1]"
   ]
  },
  {
   "cell_type": "code",
   "execution_count": 13,
   "id": "140be828-6c3d-4861-8034-98cc453ed50e",
   "metadata": {},
   "outputs": [
    {
     "data": {
      "text/plain": [
       "[1, 345, 45, 'sudh', True, (5+7j), 345.456]"
      ]
     },
     "execution_count": 13,
     "metadata": {},
     "output_type": "execute_result"
    }
   ],
   "source": [
    "l"
   ]
  },
  {
   "cell_type": "code",
   "execution_count": 15,
   "id": "d61a1a2f-42e3-4de7-9a15-e290b8d1787b",
   "metadata": {},
   "outputs": [
    {
     "data": {
      "text/plain": [
       "[45, True, 345.456]"
      ]
     },
     "execution_count": 15,
     "metadata": {},
     "output_type": "execute_result"
    }
   ],
   "source": [
    "l[2::2]\n",
    "#even index data(not taken 0 as even number)"
   ]
  },
  {
   "cell_type": "code",
   "execution_count": 16,
   "id": "1d992f26-23b4-4a59-8480-2dae5530f929",
   "metadata": {},
   "outputs": [],
   "source": [
    "s=\"pwskills\""
   ]
  },
  {
   "cell_type": "code",
   "execution_count": 19,
   "id": "1a88fa39-d43d-40a6-9d3f-42769dbdb095",
   "metadata": {},
   "outputs": [
    {
     "ename": "TypeError",
     "evalue": "can only concatenate list (not \"str\") to list",
     "output_type": "error",
     "traceback": [
      "\u001b[0;31m---------------------------------------------------------------------------\u001b[0m",
      "\u001b[0;31mTypeError\u001b[0m                                 Traceback (most recent call last)",
      "Cell \u001b[0;32mIn[19], line 1\u001b[0m\n\u001b[0;32m----> 1\u001b[0m \u001b[43ml\u001b[49m\u001b[38;5;241;43m+\u001b[39;49m\u001b[43ms\u001b[49m\n\u001b[1;32m      2\u001b[0m \u001b[38;5;66;03m#string data type cannt join with list data type.sting and list is concatinate with the '+' operator\u001b[39;00m\n",
      "\u001b[0;31mTypeError\u001b[0m: can only concatenate list (not \"str\") to list"
     ]
    }
   ],
   "source": [
    "l+s\n",
    "#string data type cannt join with list data type.sting and list is concatinate with the '+' operator"
   ]
  },
  {
   "cell_type": "code",
   "execution_count": 20,
   "id": "b1ad91ce-a041-4573-82b1-7aff2cb26847",
   "metadata": {},
   "outputs": [],
   "source": [
    "l.extend(s)"
   ]
  },
  {
   "cell_type": "code",
   "execution_count": 21,
   "id": "4efc23f5-cce1-4e03-a70d-40d6c4d95a2d",
   "metadata": {},
   "outputs": [
    {
     "data": {
      "text/plain": [
       "[1,\n",
       " 345,\n",
       " 45,\n",
       " 'sudh',\n",
       " True,\n",
       " (5+7j),\n",
       " 345.456,\n",
       " 'p',\n",
       " 'w',\n",
       " 's',\n",
       " 'k',\n",
       " 'i',\n",
       " 'l',\n",
       " 'l',\n",
       " 's']"
      ]
     },
     "execution_count": 21,
     "metadata": {},
     "output_type": "execute_result"
    }
   ],
   "source": [
    "l"
   ]
  },
  {
   "cell_type": "code",
   "execution_count": 22,
   "id": "1c7efbd2-7bd4-4b8e-b208-f40c95c5a8a1",
   "metadata": {},
   "outputs": [],
   "source": [
    "l.append(s)"
   ]
  },
  {
   "cell_type": "code",
   "execution_count": 23,
   "id": "26fd1bc3-d2f4-463e-8c54-a89406dd1e5d",
   "metadata": {},
   "outputs": [
    {
     "data": {
      "text/plain": [
       "[1,\n",
       " 345,\n",
       " 45,\n",
       " 'sudh',\n",
       " True,\n",
       " (5+7j),\n",
       " 345.456,\n",
       " 'p',\n",
       " 'w',\n",
       " 's',\n",
       " 'k',\n",
       " 'i',\n",
       " 'l',\n",
       " 'l',\n",
       " 's',\n",
       " 'pwskills']"
      ]
     },
     "execution_count": 23,
     "metadata": {},
     "output_type": "execute_result"
    }
   ],
   "source": [
    "l"
   ]
  },
  {
   "cell_type": "code",
   "execution_count": 24,
   "id": "7ba79b28-c58c-4381-bf37-a79a30ba2308",
   "metadata": {},
   "outputs": [
    {
     "data": {
      "text/plain": [
       "['p', 'w', 's', 'k', 'i', 'l', 'l', 's']"
      ]
     },
     "execution_count": 24,
     "metadata": {},
     "output_type": "execute_result"
    }
   ],
   "source": [
    "list(s)"
   ]
  },
  {
   "cell_type": "code",
   "execution_count": 25,
   "id": "66fadb69-2bde-49c0-ace3-e2df404978de",
   "metadata": {},
   "outputs": [
    {
     "data": {
      "text/plain": [
       "[1,\n",
       " 345,\n",
       " 45,\n",
       " 'sudh',\n",
       " True,\n",
       " (5+7j),\n",
       " 345.456,\n",
       " 'p',\n",
       " 'w',\n",
       " 's',\n",
       " 'k',\n",
       " 'i',\n",
       " 'l',\n",
       " 'l',\n",
       " 's',\n",
       " 'pwskills']"
      ]
     },
     "execution_count": 25,
     "metadata": {},
     "output_type": "execute_result"
    }
   ],
   "source": [
    "l"
   ]
  },
  {
   "cell_type": "code",
   "execution_count": 26,
   "id": "46be3c0f-bed4-4afe-9f3b-dd19a30f81c1",
   "metadata": {},
   "outputs": [
    {
     "data": {
      "text/plain": [
       "'su'"
      ]
     },
     "execution_count": 26,
     "metadata": {},
     "output_type": "execute_result"
    }
   ],
   "source": [
    "l[3][:2]"
   ]
  },
  {
   "cell_type": "code",
   "execution_count": 30,
   "id": "1f5647c1-3270-4f0c-a1f5-550c3200ec57",
   "metadata": {},
   "outputs": [
    {
     "data": {
      "text/plain": [
       "'Tr'"
      ]
     },
     "execution_count": 30,
     "metadata": {},
     "output_type": "execute_result"
    }
   ],
   "source": [
    "str(l[4])[:2]"
   ]
  },
  {
   "cell_type": "code",
   "execution_count": 31,
   "id": "c2977e83-ea4b-46f0-939b-b33fdc5954e8",
   "metadata": {},
   "outputs": [
    {
     "data": {
      "text/plain": [
       "[1,\n",
       " 345,\n",
       " 45,\n",
       " 'sudh',\n",
       " True,\n",
       " (5+7j),\n",
       " 345.456,\n",
       " 'p',\n",
       " 'w',\n",
       " 's',\n",
       " 'k',\n",
       " 'i',\n",
       " 'l',\n",
       " 'l',\n",
       " 's',\n",
       " 'pwskills']"
      ]
     },
     "execution_count": 31,
     "metadata": {},
     "output_type": "execute_result"
    }
   ],
   "source": [
    "l"
   ]
  },
  {
   "cell_type": "code",
   "execution_count": 34,
   "id": "49d5c9fd-c603-466d-a424-3ac5b836a45b",
   "metadata": {},
   "outputs": [],
   "source": [
    "a=5"
   ]
  },
  {
   "cell_type": "code",
   "execution_count": 36,
   "id": "9c3fa170-f721-448a-b008-f8f67cfc458e",
   "metadata": {},
   "outputs": [
    {
     "data": {
      "text/plain": [
       "[1,\n",
       " 345,\n",
       " 45,\n",
       " 'sudh',\n",
       " True,\n",
       " (5+7j),\n",
       " 345.456,\n",
       " 'p',\n",
       " 'w',\n",
       " 's',\n",
       " 'k',\n",
       " 'i',\n",
       " 'l',\n",
       " 'l',\n",
       " 's',\n",
       " 'pwskills',\n",
       " '5']"
      ]
     },
     "execution_count": 36,
     "metadata": {},
     "output_type": "execute_result"
    }
   ],
   "source": [
    "l+list(a)"
   ]
  },
  {
   "cell_type": "code",
   "execution_count": 37,
   "id": "cd070e0e-5fa4-4087-8761-29d2eeb2ceb5",
   "metadata": {},
   "outputs": [
    {
     "data": {
      "text/plain": [
       "[1,\n",
       " 345,\n",
       " 45,\n",
       " 'sudh',\n",
       " True,\n",
       " (5+7j),\n",
       " 345.456,\n",
       " 'p',\n",
       " 'w',\n",
       " 's',\n",
       " 'k',\n",
       " 'i',\n",
       " 'l',\n",
       " 'l',\n",
       " 's',\n",
       " 'pwskills']"
      ]
     },
     "execution_count": 37,
     "metadata": {},
     "output_type": "execute_result"
    }
   ],
   "source": [
    "l"
   ]
  },
  {
   "cell_type": "code",
   "execution_count": 38,
   "id": "fb4cb644-f004-4445-b98f-33f43356aeb8",
   "metadata": {},
   "outputs": [
    {
     "data": {
      "text/plain": [
       "['5']"
      ]
     },
     "execution_count": 38,
     "metadata": {},
     "output_type": "execute_result"
    }
   ],
   "source": [
    "list(a)"
   ]
  },
  {
   "cell_type": "code",
   "execution_count": 39,
   "id": "77498eb5-28ce-4d7e-b50e-8050705bd582",
   "metadata": {},
   "outputs": [],
   "source": [
    "l1=[3,4,5]"
   ]
  },
  {
   "cell_type": "code",
   "execution_count": 41,
   "id": "5bbd99df-7d6d-4456-bab6-70c2464ae865",
   "metadata": {},
   "outputs": [
    {
     "data": {
      "text/plain": [
       "[1,\n",
       " 345,\n",
       " 45,\n",
       " 'sudh',\n",
       " True,\n",
       " (5+7j),\n",
       " 345.456,\n",
       " 'p',\n",
       " 'w',\n",
       " 's',\n",
       " 'k',\n",
       " 'i',\n",
       " 'l',\n",
       " 'l',\n",
       " 's',\n",
       " 'pwskills',\n",
       " 3,\n",
       " 4,\n",
       " 5]"
      ]
     },
     "execution_count": 41,
     "metadata": {},
     "output_type": "execute_result"
    }
   ],
   "source": [
    "l+l1"
   ]
  },
  {
   "cell_type": "code",
   "execution_count": 42,
   "id": "80c90b8b-fe0c-43c5-9b67-8cc8f91a32f8",
   "metadata": {},
   "outputs": [
    {
     "data": {
      "text/plain": [
       "[3, 4, 5]"
      ]
     },
     "execution_count": 42,
     "metadata": {},
     "output_type": "execute_result"
    }
   ],
   "source": [
    "l1"
   ]
  },
  {
   "cell_type": "code",
   "execution_count": 43,
   "id": "82b473a7-bc59-40ef-94cd-110c89d87127",
   "metadata": {},
   "outputs": [
    {
     "data": {
      "text/plain": [
       "[3, 4, 5, 3, 4, 5, 3, 4, 5]"
      ]
     },
     "execution_count": 43,
     "metadata": {},
     "output_type": "execute_result"
    }
   ],
   "source": [
    "l1*3"
   ]
  },
  {
   "cell_type": "code",
   "execution_count": 44,
   "id": "abfb7e34-f4e8-4569-a088-ae9b4dae4269",
   "metadata": {},
   "outputs": [
    {
     "data": {
      "text/plain": [
       "[1,\n",
       " 345,\n",
       " 45,\n",
       " 'sudh',\n",
       " True,\n",
       " (5+7j),\n",
       " 345.456,\n",
       " 'p',\n",
       " 'w',\n",
       " 's',\n",
       " 'k',\n",
       " 'i',\n",
       " 'l',\n",
       " 'l',\n",
       " 's',\n",
       " 'pwskills']"
      ]
     },
     "execution_count": 44,
     "metadata": {},
     "output_type": "execute_result"
    }
   ],
   "source": [
    "l"
   ]
  },
  {
   "cell_type": "code",
   "execution_count": 45,
   "id": "defd7ce1-14e9-4865-86c3-30cede0ba17b",
   "metadata": {},
   "outputs": [
    {
     "data": {
      "text/plain": [
       "16"
      ]
     },
     "execution_count": 45,
     "metadata": {},
     "output_type": "execute_result"
    }
   ],
   "source": [
    "len(l)"
   ]
  },
  {
   "cell_type": "code",
   "execution_count": 46,
   "id": "4eb0a09d-2466-49a1-b9d7-b330b0fb76a5",
   "metadata": {},
   "outputs": [],
   "source": [
    "l.append(5)"
   ]
  },
  {
   "cell_type": "code",
   "execution_count": 47,
   "id": "ea1a194f-1191-4d00-9c08-654a7b3b26a5",
   "metadata": {},
   "outputs": [
    {
     "data": {
      "text/plain": [
       "[1,\n",
       " 345,\n",
       " 45,\n",
       " 'sudh',\n",
       " True,\n",
       " (5+7j),\n",
       " 345.456,\n",
       " 'p',\n",
       " 'w',\n",
       " 's',\n",
       " 'k',\n",
       " 'i',\n",
       " 'l',\n",
       " 'l',\n",
       " 's',\n",
       " 'pwskills',\n",
       " 5]"
      ]
     },
     "execution_count": 47,
     "metadata": {},
     "output_type": "execute_result"
    }
   ],
   "source": [
    "l"
   ]
  },
  {
   "cell_type": "code",
   "execution_count": 48,
   "id": "a9e67591-40bf-4b19-9b02-f35db05227b9",
   "metadata": {},
   "outputs": [],
   "source": [
    "l.append('pwskills')"
   ]
  },
  {
   "cell_type": "code",
   "execution_count": 49,
   "id": "b9c6d2cc-a66a-45f6-8f51-2d76feb8f09d",
   "metadata": {},
   "outputs": [
    {
     "data": {
      "text/plain": [
       "[1,\n",
       " 345,\n",
       " 45,\n",
       " 'sudh',\n",
       " True,\n",
       " (5+7j),\n",
       " 345.456,\n",
       " 'p',\n",
       " 'w',\n",
       " 's',\n",
       " 'k',\n",
       " 'i',\n",
       " 'l',\n",
       " 'l',\n",
       " 's',\n",
       " 'pwskills',\n",
       " 5,\n",
       " 'pwskills']"
      ]
     },
     "execution_count": 49,
     "metadata": {},
     "output_type": "execute_result"
    }
   ],
   "source": [
    "l"
   ]
  },
  {
   "cell_type": "code",
   "execution_count": 50,
   "id": "1cb74453-bc52-4b1e-9d7b-1061a6e754c9",
   "metadata": {},
   "outputs": [
    {
     "data": {
      "text/plain": [
       "[3, 4, 5]"
      ]
     },
     "execution_count": 50,
     "metadata": {},
     "output_type": "execute_result"
    }
   ],
   "source": [
    "l1"
   ]
  },
  {
   "cell_type": "code",
   "execution_count": 51,
   "id": "35a86c1a-cc54-4597-9920-f06dc6a93091",
   "metadata": {},
   "outputs": [],
   "source": [
    "l.append(l1)"
   ]
  },
  {
   "cell_type": "code",
   "execution_count": 52,
   "id": "415d7fdb-f3f0-4007-9df0-5e87b16f5cea",
   "metadata": {},
   "outputs": [
    {
     "data": {
      "text/plain": [
       "[1,\n",
       " 345,\n",
       " 45,\n",
       " 'sudh',\n",
       " True,\n",
       " (5+7j),\n",
       " 345.456,\n",
       " 'p',\n",
       " 'w',\n",
       " 's',\n",
       " 'k',\n",
       " 'i',\n",
       " 'l',\n",
       " 'l',\n",
       " 's',\n",
       " 'pwskills',\n",
       " 5,\n",
       " 'pwskills',\n",
       " [3, 4, 5]]"
      ]
     },
     "execution_count": 52,
     "metadata": {},
     "output_type": "execute_result"
    }
   ],
   "source": [
    "l"
   ]
  },
  {
   "cell_type": "code",
   "execution_count": 53,
   "id": "64749746-7316-41d8-949a-87f6b0f18c7e",
   "metadata": {},
   "outputs": [],
   "source": [
    "l1.append(l)"
   ]
  },
  {
   "cell_type": "code",
   "execution_count": 54,
   "id": "aaf183bb-6032-49f7-b688-5c96ddad9a3c",
   "metadata": {},
   "outputs": [
    {
     "data": {
      "text/plain": [
       "[3,\n",
       " 4,\n",
       " 5,\n",
       " [1,\n",
       "  345,\n",
       "  45,\n",
       "  'sudh',\n",
       "  True,\n",
       "  (5+7j),\n",
       "  345.456,\n",
       "  'p',\n",
       "  'w',\n",
       "  's',\n",
       "  'k',\n",
       "  'i',\n",
       "  'l',\n",
       "  'l',\n",
       "  's',\n",
       "  'pwskills',\n",
       "  5,\n",
       "  'pwskills',\n",
       "  [...]]]"
      ]
     },
     "execution_count": 54,
     "metadata": {},
     "output_type": "execute_result"
    }
   ],
   "source": [
    "l1"
   ]
  },
  {
   "cell_type": "code",
   "execution_count": 55,
   "id": "96b1adbc-8b38-426f-9284-9b82e9ffa78c",
   "metadata": {},
   "outputs": [],
   "source": [
    "b=[1,2,3,\"pw\",6+5j,True,9]"
   ]
  },
  {
   "cell_type": "code",
   "execution_count": 57,
   "id": "523d3186-2565-49a5-b1df-8f0f39d850e5",
   "metadata": {},
   "outputs": [],
   "source": [
    "b1=[1,2,3]"
   ]
  },
  {
   "cell_type": "code",
   "execution_count": 58,
   "id": "100db2dd-a86c-4098-8b5e-c48d5a930cf4",
   "metadata": {},
   "outputs": [],
   "source": [
    "b1.append(b)"
   ]
  },
  {
   "cell_type": "code",
   "execution_count": 59,
   "id": "a041395a-ee8a-4234-ba09-14b0f0240340",
   "metadata": {},
   "outputs": [
    {
     "data": {
      "text/plain": [
       "[1, 2, 3, [1, 2, 3, 'pw', (6+5j), True, 9]]"
      ]
     },
     "execution_count": 59,
     "metadata": {},
     "output_type": "execute_result"
    }
   ],
   "source": [
    "b1"
   ]
  },
  {
   "cell_type": "code",
   "execution_count": 60,
   "id": "b31009cd-07db-4b73-9b1c-802488706a8b",
   "metadata": {},
   "outputs": [],
   "source": [
    "b1.remove(b)"
   ]
  },
  {
   "cell_type": "code",
   "execution_count": 61,
   "id": "d5d4dc1b-03d3-4717-babc-b2d9f92a96d7",
   "metadata": {},
   "outputs": [
    {
     "data": {
      "text/plain": [
       "[1, 2, 3]"
      ]
     },
     "execution_count": 61,
     "metadata": {},
     "output_type": "execute_result"
    }
   ],
   "source": [
    "b1"
   ]
  },
  {
   "cell_type": "code",
   "execution_count": 62,
   "id": "740decea-e4be-4175-918a-e2c24c187ba9",
   "metadata": {},
   "outputs": [
    {
     "data": {
      "text/plain": [
       "[1,\n",
       " 345,\n",
       " 45,\n",
       " 'sudh',\n",
       " True,\n",
       " (5+7j),\n",
       " 345.456,\n",
       " 'p',\n",
       " 'w',\n",
       " 's',\n",
       " 'k',\n",
       " 'i',\n",
       " 'l',\n",
       " 'l',\n",
       " 's',\n",
       " 'pwskills',\n",
       " 5,\n",
       " 'pwskills',\n",
       " [3, 4, 5, [...]]]"
      ]
     },
     "execution_count": 62,
     "metadata": {},
     "output_type": "execute_result"
    }
   ],
   "source": [
    "l"
   ]
  },
  {
   "cell_type": "code",
   "execution_count": 63,
   "id": "a3c4801e-1223-481c-bf41-d42a56e8bc6a",
   "metadata": {},
   "outputs": [],
   "source": [
    "l1.remove(l)"
   ]
  },
  {
   "cell_type": "code",
   "execution_count": 64,
   "id": "a1cfdc12-fb9e-4ba5-8cff-daaa5997dc42",
   "metadata": {},
   "outputs": [
    {
     "data": {
      "text/plain": [
       "[3, 4, 5]"
      ]
     },
     "execution_count": 64,
     "metadata": {},
     "output_type": "execute_result"
    }
   ],
   "source": [
    "l1"
   ]
  },
  {
   "cell_type": "code",
   "execution_count": 65,
   "id": "d1fea534-534c-4454-8f64-ea4d0b24ee16",
   "metadata": {},
   "outputs": [],
   "source": [
    "l.remove(l1)"
   ]
  },
  {
   "cell_type": "code",
   "execution_count": 66,
   "id": "148dcf6a-c5a9-41cb-a147-991443367072",
   "metadata": {},
   "outputs": [
    {
     "data": {
      "text/plain": [
       "[1,\n",
       " 345,\n",
       " 45,\n",
       " 'sudh',\n",
       " True,\n",
       " (5+7j),\n",
       " 345.456,\n",
       " 'p',\n",
       " 'w',\n",
       " 's',\n",
       " 'k',\n",
       " 'i',\n",
       " 'l',\n",
       " 'l',\n",
       " 's',\n",
       " 'pwskills',\n",
       " 5,\n",
       " 'pwskills']"
      ]
     },
     "execution_count": 66,
     "metadata": {},
     "output_type": "execute_result"
    }
   ],
   "source": [
    "l"
   ]
  },
  {
   "cell_type": "code",
   "execution_count": 67,
   "id": "a60fbc82-3bb0-4dba-af73-41f803e73f4b",
   "metadata": {},
   "outputs": [],
   "source": [
    "l.append(l1)"
   ]
  },
  {
   "cell_type": "code",
   "execution_count": 68,
   "id": "e2886fe7-4243-4372-8eec-94a21eaa8bb0",
   "metadata": {},
   "outputs": [
    {
     "data": {
      "text/plain": [
       "[1,\n",
       " 345,\n",
       " 45,\n",
       " 'sudh',\n",
       " True,\n",
       " (5+7j),\n",
       " 345.456,\n",
       " 'p',\n",
       " 'w',\n",
       " 's',\n",
       " 'k',\n",
       " 'i',\n",
       " 'l',\n",
       " 'l',\n",
       " 's',\n",
       " 'pwskills',\n",
       " 5,\n",
       " 'pwskills',\n",
       " [3, 4, 5]]"
      ]
     },
     "execution_count": 68,
     "metadata": {},
     "output_type": "execute_result"
    }
   ],
   "source": [
    "l"
   ]
  },
  {
   "cell_type": "code",
   "execution_count": 69,
   "id": "1109053c-bb8a-4f47-9d02-dbe28115ffa3",
   "metadata": {},
   "outputs": [
    {
     "data": {
      "text/plain": [
       "4"
      ]
     },
     "execution_count": 69,
     "metadata": {},
     "output_type": "execute_result"
    }
   ],
   "source": [
    "l[-1][1]"
   ]
  },
  {
   "cell_type": "code",
   "execution_count": 70,
   "id": "b058f2c9-7010-423f-a9a0-9bfea4bd5ea1",
   "metadata": {},
   "outputs": [
    {
     "data": {
      "text/plain": [
       "[1,\n",
       " 345,\n",
       " 45,\n",
       " 'sudh',\n",
       " True,\n",
       " (5+7j),\n",
       " 345.456,\n",
       " 'p',\n",
       " 'w',\n",
       " 's',\n",
       " 'k',\n",
       " 'i',\n",
       " 'l',\n",
       " 'l',\n",
       " 's',\n",
       " 'pwskills',\n",
       " 5,\n",
       " 'pwskills',\n",
       " [3, 4, 5]]"
      ]
     },
     "execution_count": 70,
     "metadata": {},
     "output_type": "execute_result"
    }
   ],
   "source": [
    "l"
   ]
  },
  {
   "cell_type": "code",
   "execution_count": 71,
   "id": "f257faa8-bad6-432e-9954-8a65d20de60f",
   "metadata": {},
   "outputs": [
    {
     "ename": "TypeError",
     "evalue": "'int' object is not iterable",
     "output_type": "error",
     "traceback": [
      "\u001b[0;31m---------------------------------------------------------------------------\u001b[0m",
      "\u001b[0;31mTypeError\u001b[0m                                 Traceback (most recent call last)",
      "Cell \u001b[0;32mIn[71], line 1\u001b[0m\n\u001b[0;32m----> 1\u001b[0m \u001b[43ml\u001b[49m\u001b[38;5;241;43m.\u001b[39;49m\u001b[43mextend\u001b[49m\u001b[43m(\u001b[49m\u001b[38;5;241;43m4\u001b[39;49m\u001b[43m)\u001b[49m\n",
      "\u001b[0;31mTypeError\u001b[0m: 'int' object is not iterable"
     ]
    }
   ],
   "source": [
    "l.extend(4)"
   ]
  },
  {
   "cell_type": "code",
   "execution_count": 72,
   "id": "78fc46e2-5afa-4369-8108-a23ddfe5b95a",
   "metadata": {},
   "outputs": [],
   "source": [
    "l.extend(\"sudh\")"
   ]
  },
  {
   "cell_type": "code",
   "execution_count": 73,
   "id": "7cec51ed-0e42-4ba6-bb81-a2a239b728de",
   "metadata": {},
   "outputs": [
    {
     "data": {
      "text/plain": [
       "[1,\n",
       " 345,\n",
       " 45,\n",
       " 'sudh',\n",
       " True,\n",
       " (5+7j),\n",
       " 345.456,\n",
       " 'p',\n",
       " 'w',\n",
       " 's',\n",
       " 'k',\n",
       " 'i',\n",
       " 'l',\n",
       " 'l',\n",
       " 's',\n",
       " 'pwskills',\n",
       " 5,\n",
       " 'pwskills',\n",
       " [3, 4, 5],\n",
       " 's',\n",
       " 'u',\n",
       " 'd',\n",
       " 'h']"
      ]
     },
     "execution_count": 73,
     "metadata": {},
     "output_type": "execute_result"
    }
   ],
   "source": [
    "l"
   ]
  },
  {
   "cell_type": "code",
   "execution_count": 74,
   "id": "8f195c43-178c-4a5e-a4f5-082ec8f6e28b",
   "metadata": {},
   "outputs": [],
   "source": [
    "l.extend([3,4,5])"
   ]
  },
  {
   "cell_type": "code",
   "execution_count": 75,
   "id": "e737725f-90b8-44db-b781-fd87b2d0d562",
   "metadata": {},
   "outputs": [
    {
     "data": {
      "text/plain": [
       "[1,\n",
       " 345,\n",
       " 45,\n",
       " 'sudh',\n",
       " True,\n",
       " (5+7j),\n",
       " 345.456,\n",
       " 'p',\n",
       " 'w',\n",
       " 's',\n",
       " 'k',\n",
       " 'i',\n",
       " 'l',\n",
       " 'l',\n",
       " 's',\n",
       " 'pwskills',\n",
       " 5,\n",
       " 'pwskills',\n",
       " [3, 4, 5],\n",
       " 's',\n",
       " 'u',\n",
       " 'd',\n",
       " 'h',\n",
       " 3,\n",
       " 4,\n",
       " 5]"
      ]
     },
     "execution_count": 75,
     "metadata": {},
     "output_type": "execute_result"
    }
   ],
   "source": [
    "l"
   ]
  },
  {
   "cell_type": "code",
   "execution_count": 76,
   "id": "1a068c90-76c0-480d-bb4c-3031fbe98e2e",
   "metadata": {},
   "outputs": [
    {
     "data": {
      "text/plain": [
       "'pwskills'"
      ]
     },
     "execution_count": 76,
     "metadata": {},
     "output_type": "execute_result"
    }
   ],
   "source": [
    "s"
   ]
  },
  {
   "cell_type": "code",
   "execution_count": 78,
   "id": "73286e4b-177e-4c35-8b7d-2ec20fb8c889",
   "metadata": {},
   "outputs": [],
   "source": [
    "l.remove(s)"
   ]
  },
  {
   "cell_type": "code",
   "execution_count": 79,
   "id": "95591a96-35c5-46ad-8ee0-eea471fcc245",
   "metadata": {},
   "outputs": [
    {
     "data": {
      "text/plain": [
       "[1,\n",
       " 345,\n",
       " 45,\n",
       " 'sudh',\n",
       " True,\n",
       " (5+7j),\n",
       " 345.456,\n",
       " 'p',\n",
       " 'w',\n",
       " 's',\n",
       " 'k',\n",
       " 'i',\n",
       " 'l',\n",
       " 'l',\n",
       " 's',\n",
       " 5,\n",
       " 'pwskills',\n",
       " [3, 4, 5],\n",
       " 's',\n",
       " 'u',\n",
       " 'd',\n",
       " 'h',\n",
       " 3,\n",
       " 4,\n",
       " 5]"
      ]
     },
     "execution_count": 79,
     "metadata": {},
     "output_type": "execute_result"
    }
   ],
   "source": [
    "l"
   ]
  },
  {
   "cell_type": "code",
   "execution_count": 82,
   "id": "1eeb1a05-bae2-4684-babc-57d30f199e5b",
   "metadata": {},
   "outputs": [],
   "source": [
    "#when append fn is used then object is not breakable.int data type is also add with the list.\n",
    "#but when use the extend function iterable object at firest will break then it \n",
    "#will add with the list. \n",
    "#here int ,float is not add with the list because int is not breakable data type.\n",
    "#this is the basic difference between append and extend"
   ]
  },
  {
   "cell_type": "code",
   "execution_count": 83,
   "id": "46389bb1-f067-4d57-b3fa-bec931c1f556",
   "metadata": {},
   "outputs": [
    {
     "data": {
      "text/plain": [
       "[3, 4, 5]"
      ]
     },
     "execution_count": 83,
     "metadata": {},
     "output_type": "execute_result"
    }
   ],
   "source": [
    "l1"
   ]
  },
  {
   "cell_type": "code",
   "execution_count": 84,
   "id": "e42efb3f-9695-41ed-87af-28a0a3324bba",
   "metadata": {},
   "outputs": [],
   "source": [
    "l1.insert(0,\"swapnamoy\")"
   ]
  },
  {
   "cell_type": "code",
   "execution_count": 85,
   "id": "87b1bd7b-0bfc-4b50-b22d-639db133cf03",
   "metadata": {},
   "outputs": [
    {
     "data": {
      "text/plain": [
       "['swapnamoy', 3, 4, 5]"
      ]
     },
     "execution_count": 85,
     "metadata": {},
     "output_type": "execute_result"
    }
   ],
   "source": [
    "l1"
   ]
  },
  {
   "cell_type": "code",
   "execution_count": 86,
   "id": "a175a76e-5fd3-4c58-b863-6def784017cc",
   "metadata": {},
   "outputs": [],
   "source": [
    "l1.insert(-1,45)"
   ]
  },
  {
   "cell_type": "code",
   "execution_count": 87,
   "id": "aeb96589-8cf2-4e01-9d2f-75830ca00685",
   "metadata": {},
   "outputs": [
    {
     "data": {
      "text/plain": [
       "['swapnamoy', 3, 4, 45, 5]"
      ]
     },
     "execution_count": 87,
     "metadata": {},
     "output_type": "execute_result"
    }
   ],
   "source": [
    "l1"
   ]
  },
  {
   "cell_type": "code",
   "execution_count": 90,
   "id": "790d5c3e-07b2-4ef4-928d-ece1be8fe7ca",
   "metadata": {},
   "outputs": [
    {
     "data": {
      "text/plain": [
       "4"
      ]
     },
     "execution_count": 90,
     "metadata": {},
     "output_type": "execute_result"
    }
   ],
   "source": [
    "l1.pop(2)"
   ]
  },
  {
   "cell_type": "code",
   "execution_count": 91,
   "id": "fb1f51eb-8aae-4101-a5f1-da5a2344a204",
   "metadata": {},
   "outputs": [
    {
     "data": {
      "text/plain": [
       "['swapnamoy', 3, 45]"
      ]
     },
     "execution_count": 91,
     "metadata": {},
     "output_type": "execute_result"
    }
   ],
   "source": [
    "l1"
   ]
  },
  {
   "cell_type": "code",
   "execution_count": 92,
   "id": "ef3ddb98-f5d1-4bf5-9742-4dff727bcfda",
   "metadata": {},
   "outputs": [
    {
     "data": {
      "text/plain": [
       "'swapnamoy'"
      ]
     },
     "execution_count": 92,
     "metadata": {},
     "output_type": "execute_result"
    }
   ],
   "source": [
    "l1.pop(0)"
   ]
  },
  {
   "cell_type": "code",
   "execution_count": 93,
   "id": "3f18db4f-7640-4e7d-961e-2b6739b13ea1",
   "metadata": {},
   "outputs": [
    {
     "data": {
      "text/plain": [
       "[1,\n",
       " 345,\n",
       " 45,\n",
       " 'sudh',\n",
       " True,\n",
       " (5+7j),\n",
       " 345.456,\n",
       " 'p',\n",
       " 'w',\n",
       " 's',\n",
       " 'k',\n",
       " 'i',\n",
       " 'l',\n",
       " 'l',\n",
       " 's',\n",
       " 5,\n",
       " 'pwskills',\n",
       " [3, 45],\n",
       " 's',\n",
       " 'u',\n",
       " 'd',\n",
       " 'h',\n",
       " 3,\n",
       " 4,\n",
       " 5]"
      ]
     },
     "execution_count": 93,
     "metadata": {},
     "output_type": "execute_result"
    }
   ],
   "source": [
    "l"
   ]
  },
  {
   "cell_type": "code",
   "execution_count": 95,
   "id": "cc083368-87fa-446a-859b-5b0263067902",
   "metadata": {},
   "outputs": [],
   "source": [
    "l.remove(5+7j)"
   ]
  },
  {
   "cell_type": "code",
   "execution_count": 96,
   "id": "193e402b-4f16-4cb8-bdfa-a8fe7744301b",
   "metadata": {},
   "outputs": [
    {
     "data": {
      "text/plain": [
       "[1,\n",
       " 345,\n",
       " 45,\n",
       " 'sudh',\n",
       " True,\n",
       " 345.456,\n",
       " 'p',\n",
       " 'w',\n",
       " 's',\n",
       " 'k',\n",
       " 'i',\n",
       " 'l',\n",
       " 'l',\n",
       " 's',\n",
       " 5,\n",
       " 'pwskills',\n",
       " [3, 45],\n",
       " 's',\n",
       " 'u',\n",
       " 'd',\n",
       " 'h',\n",
       " 3,\n",
       " 4,\n",
       " 5]"
      ]
     },
     "execution_count": 96,
     "metadata": {},
     "output_type": "execute_result"
    }
   ],
   "source": [
    "l"
   ]
  },
  {
   "cell_type": "code",
   "execution_count": 98,
   "id": "83eeab89-7d81-4cf1-8759-2e0080f28590",
   "metadata": {},
   "outputs": [],
   "source": [
    "#when u want to dlt any object from the list u can useinbg two function \n",
    "#one is pop(),another one is remove() now \n",
    "#when we use pop() then we use as pop(index)\n",
    "#but when we use remove() the we use remove(what we want to dlt from the list)'''"
   ]
  },
  {
   "cell_type": "code",
   "execution_count": 99,
   "id": "f5bcc17a-5873-4700-a954-bc088e5c8051",
   "metadata": {},
   "outputs": [
    {
     "data": {
      "text/plain": [
       "[3, 45]"
      ]
     },
     "execution_count": 99,
     "metadata": {},
     "output_type": "execute_result"
    }
   ],
   "source": [
    "l1"
   ]
  },
  {
   "cell_type": "code",
   "execution_count": 100,
   "id": "e71baaa8-8c04-4e12-bb5c-6039fe0a98b7",
   "metadata": {},
   "outputs": [],
   "source": [
    "l1.append([2,3,4])"
   ]
  },
  {
   "cell_type": "code",
   "execution_count": 101,
   "id": "1c1839ca-eec5-4292-a911-b63216f3f392",
   "metadata": {},
   "outputs": [
    {
     "data": {
      "text/plain": [
       "[3, 45, [2, 3, 4]]"
      ]
     },
     "execution_count": 101,
     "metadata": {},
     "output_type": "execute_result"
    }
   ],
   "source": [
    "l1"
   ]
  },
  {
   "cell_type": "code",
   "execution_count": 102,
   "id": "8be0cdd5-a65f-4123-8d56-75b7df8081b8",
   "metadata": {},
   "outputs": [
    {
     "ename": "ValueError",
     "evalue": "list.remove(x): x not in list",
     "output_type": "error",
     "traceback": [
      "\u001b[0;31m---------------------------------------------------------------------------\u001b[0m",
      "\u001b[0;31mValueError\u001b[0m                                Traceback (most recent call last)",
      "Cell \u001b[0;32mIn[102], line 1\u001b[0m\n\u001b[0;32m----> 1\u001b[0m \u001b[43ml1\u001b[49m\u001b[38;5;241;43m.\u001b[39;49m\u001b[43mremove\u001b[49m\u001b[43m(\u001b[49m\u001b[38;5;241;43m234\u001b[39;49m\u001b[43m)\u001b[49m\n",
      "\u001b[0;31mValueError\u001b[0m: list.remove(x): x not in list"
     ]
    }
   ],
   "source": [
    "l1.remove(234)"
   ]
  },
  {
   "cell_type": "code",
   "execution_count": 103,
   "id": "59e82fcc-288e-456d-9f5d-a9d8854093dc",
   "metadata": {},
   "outputs": [],
   "source": [
    "l1[2].remove(3)"
   ]
  },
  {
   "cell_type": "code",
   "execution_count": 104,
   "id": "7d79eb0f-2422-4155-b3f8-86ff0ebec518",
   "metadata": {},
   "outputs": [
    {
     "data": {
      "text/plain": [
       "[3, 45, [2, 4]]"
      ]
     },
     "execution_count": 104,
     "metadata": {},
     "output_type": "execute_result"
    }
   ],
   "source": [
    "l1"
   ]
  },
  {
   "cell_type": "code",
   "execution_count": 105,
   "id": "07827b03-91bf-4436-b6e9-e44154b029a2",
   "metadata": {},
   "outputs": [],
   "source": [
    "l1.insert(1,\"sudh\")"
   ]
  },
  {
   "cell_type": "code",
   "execution_count": 106,
   "id": "4c8e48a0-9299-4554-a566-ec812c005b30",
   "metadata": {},
   "outputs": [
    {
     "data": {
      "text/plain": [
       "[3, 'sudh', 45, [2, 4]]"
      ]
     },
     "execution_count": 106,
     "metadata": {},
     "output_type": "execute_result"
    }
   ],
   "source": [
    "l1"
   ]
  },
  {
   "cell_type": "code",
   "execution_count": 109,
   "id": "8513383e-16ee-4915-b735-c9f0435bb7fd",
   "metadata": {},
   "outputs": [
    {
     "ename": "AttributeError",
     "evalue": "'str' object has no attribute 'remove'",
     "output_type": "error",
     "traceback": [
      "\u001b[0;31m---------------------------------------------------------------------------\u001b[0m",
      "\u001b[0;31mAttributeError\u001b[0m                            Traceback (most recent call last)",
      "Cell \u001b[0;32mIn[109], line 1\u001b[0m\n\u001b[0;32m----> 1\u001b[0m \u001b[43ml1\u001b[49m\u001b[43m[\u001b[49m\u001b[38;5;241;43m1\u001b[39;49m\u001b[43m]\u001b[49m\u001b[38;5;241;43m.\u001b[39;49m\u001b[43mremove\u001b[49m(d)\n\u001b[1;32m      2\u001b[0m \u001b[38;5;66;03m#list is the mutable object and it can mutate but string follows immutability it dioes not follows\u001b[39;00m\n\u001b[1;32m      3\u001b[0m \u001b[38;5;66;03m#mutability\u001b[39;00m\n",
      "\u001b[0;31mAttributeError\u001b[0m: 'str' object has no attribute 'remove'"
     ]
    }
   ],
   "source": [
    "l1[1].remove(d)\n",
    "#list is the mutable object and it can mutate but string follows immutability it dioes not follows\n",
    "#mutability"
   ]
  },
  {
   "cell_type": "code",
   "execution_count": 110,
   "id": "c6bb1a57-f1f4-4453-9d5a-9b75876b334e",
   "metadata": {},
   "outputs": [
    {
     "data": {
      "text/plain": [
       "[3, 'sudh', 45, [2, 4]]"
      ]
     },
     "execution_count": 110,
     "metadata": {},
     "output_type": "execute_result"
    }
   ],
   "source": [
    "l1"
   ]
  },
  {
   "cell_type": "code",
   "execution_count": 111,
   "id": "93f4d3fa-308f-4791-8089-a261ab9ce76c",
   "metadata": {},
   "outputs": [],
   "source": [
    "l1.append(4)"
   ]
  },
  {
   "cell_type": "code",
   "execution_count": 112,
   "id": "f2a76ab1-0bab-4c22-8ba7-c0b2d6a79dab",
   "metadata": {},
   "outputs": [
    {
     "data": {
      "text/plain": [
       "[3, 'sudh', 45, [2, 4], 4]"
      ]
     },
     "execution_count": 112,
     "metadata": {},
     "output_type": "execute_result"
    }
   ],
   "source": [
    "l1"
   ]
  },
  {
   "cell_type": "code",
   "execution_count": 113,
   "id": "080efd55-a560-49ec-a4b3-559c4bb17862",
   "metadata": {},
   "outputs": [],
   "source": [
    "l1.append(4)"
   ]
  },
  {
   "cell_type": "code",
   "execution_count": 114,
   "id": "6a34aa32-ee78-4737-86e2-8683e5d0fa48",
   "metadata": {},
   "outputs": [
    {
     "data": {
      "text/plain": [
       "[3, 'sudh', 45, [2, 4], 4, 4]"
      ]
     },
     "execution_count": 114,
     "metadata": {},
     "output_type": "execute_result"
    }
   ],
   "source": [
    "l1"
   ]
  },
  {
   "cell_type": "code",
   "execution_count": 115,
   "id": "6098777b-0772-4930-84f2-1cf2258b76fd",
   "metadata": {},
   "outputs": [],
   "source": [
    "l1.remove(4)"
   ]
  },
  {
   "cell_type": "code",
   "execution_count": 116,
   "id": "999e8f8f-2a91-4b45-958c-d95c5a300546",
   "metadata": {},
   "outputs": [
    {
     "data": {
      "text/plain": [
       "[3, 'sudh', 45, [2, 4], 4]"
      ]
     },
     "execution_count": 116,
     "metadata": {},
     "output_type": "execute_result"
    }
   ],
   "source": [
    "l1"
   ]
  },
  {
   "cell_type": "code",
   "execution_count": 117,
   "id": "ee50552f-b090-4238-bba3-39e67ea877ed",
   "metadata": {},
   "outputs": [],
   "source": [
    "l1.reverse()"
   ]
  },
  {
   "cell_type": "code",
   "execution_count": 118,
   "id": "3be6b8dd-e0e7-48da-9a4f-00a61b62f4f5",
   "metadata": {},
   "outputs": [
    {
     "data": {
      "text/plain": [
       "[4, [2, 4], 45, 'sudh', 3]"
      ]
     },
     "execution_count": 118,
     "metadata": {},
     "output_type": "execute_result"
    }
   ],
   "source": [
    "l1"
   ]
  },
  {
   "cell_type": "code",
   "execution_count": 119,
   "id": "f8b8ad3f-c550-4c15-b40b-0453e68de4fa",
   "metadata": {},
   "outputs": [
    {
     "data": {
      "text/plain": [
       "[4, [2, 4], 45, 'sudh', 3]"
      ]
     },
     "execution_count": 119,
     "metadata": {},
     "output_type": "execute_result"
    }
   ],
   "source": [
    "l1"
   ]
  },
  {
   "cell_type": "code",
   "execution_count": 121,
   "id": "d09800b1-3d4f-496e-915b-7c25f61a7c40",
   "metadata": {},
   "outputs": [],
   "source": [
    "l1.reverse()"
   ]
  },
  {
   "cell_type": "code",
   "execution_count": 122,
   "id": "e7ead012-6c9a-4649-b5e9-cc293d6ddc40",
   "metadata": {},
   "outputs": [
    {
     "data": {
      "text/plain": [
       "[3, 'sudh', 45, [2, 4], 4]"
      ]
     },
     "execution_count": 122,
     "metadata": {},
     "output_type": "execute_result"
    }
   ],
   "source": [
    "l1"
   ]
  },
  {
   "cell_type": "code",
   "execution_count": 123,
   "id": "fc04ec1a-e640-4ea7-9f6f-ee40af9c0b88",
   "metadata": {},
   "outputs": [
    {
     "data": {
      "text/plain": [
       "[4, [2, 4], 45, 'sudh', 3]"
      ]
     },
     "execution_count": 123,
     "metadata": {},
     "output_type": "execute_result"
    }
   ],
   "source": [
    "l1[::-1]"
   ]
  },
  {
   "cell_type": "code",
   "execution_count": 124,
   "id": "50321810-d986-40c2-9946-81fd724156b5",
   "metadata": {},
   "outputs": [
    {
     "data": {
      "text/plain": [
       "[3, 'sudh', 45, [2, 4], 4]"
      ]
     },
     "execution_count": 124,
     "metadata": {},
     "output_type": "execute_result"
    }
   ],
   "source": [
    "l1"
   ]
  },
  {
   "cell_type": "code",
   "execution_count": 126,
   "id": "9804b20f-8916-4849-a3cc-dfcda3f3faaa",
   "metadata": {},
   "outputs": [],
   "source": [
    "#here we notice when we use the reverse function then list is permenently reverse\n",
    "#but when we are useing sliceing concept the list is not permanently reverse\n",
    "#if we want by useing sliceing concept list permanently change then it will  must reassignn"
   ]
  },
  {
   "cell_type": "code",
   "execution_count": 127,
   "id": "7af0c899-3337-4891-9387-af5f0e6bab7a",
   "metadata": {},
   "outputs": [],
   "source": [
    "l1=l1[::-1]"
   ]
  },
  {
   "cell_type": "code",
   "execution_count": 128,
   "id": "658381a0-127b-4862-9eb4-ba999b1aa7d2",
   "metadata": {},
   "outputs": [
    {
     "data": {
      "text/plain": [
       "[4, [2, 4], 45, 'sudh', 3]"
      ]
     },
     "execution_count": 128,
     "metadata": {},
     "output_type": "execute_result"
    }
   ],
   "source": [
    "l1"
   ]
  },
  {
   "cell_type": "code",
   "execution_count": 129,
   "id": "955c4604-7f5f-4665-b1d5-74f379f440e3",
   "metadata": {},
   "outputs": [
    {
     "ename": "TypeError",
     "evalue": "'<' not supported between instances of 'list' and 'int'",
     "output_type": "error",
     "traceback": [
      "\u001b[0;31m---------------------------------------------------------------------------\u001b[0m",
      "\u001b[0;31mTypeError\u001b[0m                                 Traceback (most recent call last)",
      "Cell \u001b[0;32mIn[129], line 1\u001b[0m\n\u001b[0;32m----> 1\u001b[0m \u001b[43ml1\u001b[49m\u001b[38;5;241;43m.\u001b[39;49m\u001b[43msort\u001b[49m\u001b[43m(\u001b[49m\u001b[43m)\u001b[49m\n",
      "\u001b[0;31mTypeError\u001b[0m: '<' not supported between instances of 'list' and 'int'"
     ]
    }
   ],
   "source": [
    "l1.sort()"
   ]
  },
  {
   "cell_type": "code",
   "execution_count": 130,
   "id": "b71654e6-7d82-477a-a652-db3c9c7a2e1d",
   "metadata": {},
   "outputs": [],
   "source": [
    "l2=[8,9,2,5,1,35,27,67,874]"
   ]
  },
  {
   "cell_type": "code",
   "execution_count": 131,
   "id": "2ab58f85-9e5f-4b20-818d-38ff3ed6e6de",
   "metadata": {},
   "outputs": [
    {
     "data": {
      "text/plain": [
       "[8, 9, 2, 5, 1, 35, 27, 67, 874]"
      ]
     },
     "execution_count": 131,
     "metadata": {},
     "output_type": "execute_result"
    }
   ],
   "source": [
    "l2"
   ]
  },
  {
   "cell_type": "code",
   "execution_count": 132,
   "id": "5d9932b8-1b76-403b-a2da-472e3b24e46a",
   "metadata": {},
   "outputs": [],
   "source": [
    "l2.sort()"
   ]
  },
  {
   "cell_type": "code",
   "execution_count": 133,
   "id": "8b3d47a2-0e4b-4b71-9e15-c1a4da33eb39",
   "metadata": {},
   "outputs": [
    {
     "data": {
      "text/plain": [
       "[1, 2, 5, 8, 9, 27, 35, 67, 874]"
      ]
     },
     "execution_count": 133,
     "metadata": {},
     "output_type": "execute_result"
    }
   ],
   "source": [
    "l2"
   ]
  },
  {
   "cell_type": "code",
   "execution_count": 134,
   "id": "38a8d345-c710-4fd3-ab36-747f7cba719d",
   "metadata": {},
   "outputs": [],
   "source": [
    "#when different datatype has presented on the object it is not possible\n",
    "#sort()"
   ]
  },
  {
   "cell_type": "code",
   "execution_count": 135,
   "id": "3193b6ca-2619-4c69-9c71-46e69d8f07a0",
   "metadata": {},
   "outputs": [],
   "source": [
    "l3=[\"swapnamoy\",\"akash\",\"pwskills\",\"cat\",\"apple\",\"ball\",\"zee\"]"
   ]
  },
  {
   "cell_type": "code",
   "execution_count": 136,
   "id": "5e009796-71a6-4216-92e2-992ed286656f",
   "metadata": {},
   "outputs": [],
   "source": [
    "l3.sort()"
   ]
  },
  {
   "cell_type": "code",
   "execution_count": 137,
   "id": "eea4fe7f-da1b-4a0f-9f47-518ea95bd8ec",
   "metadata": {},
   "outputs": [
    {
     "data": {
      "text/plain": [
       "['akash', 'apple', 'ball', 'cat', 'pwskills', 'swapnamoy', 'zee']"
      ]
     },
     "execution_count": 137,
     "metadata": {},
     "output_type": "execute_result"
    }
   ],
   "source": [
    "l3"
   ]
  },
  {
   "cell_type": "code",
   "execution_count": 138,
   "id": "abfaf7b3-178e-4e47-af5b-e1bc7c9f2c2a",
   "metadata": {},
   "outputs": [],
   "source": [
    "#here we can see that string function also be sorted in the list\n"
   ]
  },
  {
   "cell_type": "code",
   "execution_count": 139,
   "id": "ed3b64b9-00d7-4dc0-9711-12a1525e373f",
   "metadata": {},
   "outputs": [],
   "source": [
    "l3.sort(reverse=True)"
   ]
  },
  {
   "cell_type": "code",
   "execution_count": 140,
   "id": "41252b6c-faf6-4ca5-9c6b-13c09c6b9c05",
   "metadata": {},
   "outputs": [
    {
     "data": {
      "text/plain": [
       "['zee', 'swapnamoy', 'pwskills', 'cat', 'ball', 'apple', 'akash']"
      ]
     },
     "execution_count": 140,
     "metadata": {},
     "output_type": "execute_result"
    }
   ],
   "source": [
    "l3"
   ]
  },
  {
   "cell_type": "code",
   "execution_count": 142,
   "id": "6c2457e1-ae61-4782-8600-e105366d6505",
   "metadata": {},
   "outputs": [],
   "source": [
    "#order change in the list"
   ]
  },
  {
   "cell_type": "code",
   "execution_count": 143,
   "id": "d53e61fe-9274-4c3e-9cf9-0e74f6ae8975",
   "metadata": {},
   "outputs": [
    {
     "data": {
      "text/plain": [
       "['zee', 'swapnamoy', 'pwskills', 'cat', 'ball', 'apple', 'akash']"
      ]
     },
     "execution_count": 143,
     "metadata": {},
     "output_type": "execute_result"
    }
   ],
   "source": [
    "l3"
   ]
  },
  {
   "cell_type": "code",
   "execution_count": 145,
   "id": "0a3eadb8-614f-4716-ab17-7d01017de1a7",
   "metadata": {},
   "outputs": [
    {
     "data": {
      "text/plain": [
       "2"
      ]
     },
     "execution_count": 145,
     "metadata": {},
     "output_type": "execute_result"
    }
   ],
   "source": [
    "l3.index(\"pwskills\")"
   ]
  },
  {
   "cell_type": "code",
   "execution_count": 146,
   "id": "ecce98e0-491a-49d7-92a4-c47285a6882d",
   "metadata": {},
   "outputs": [
    {
     "data": {
      "text/plain": [
       "1"
      ]
     },
     "execution_count": 146,
     "metadata": {},
     "output_type": "execute_result"
    }
   ],
   "source": [
    "l3.count(\"apple\")"
   ]
  },
  {
   "cell_type": "code",
   "execution_count": 147,
   "id": "fadcb86f-513f-4769-b535-5a08ab1a158b",
   "metadata": {},
   "outputs": [],
   "source": [
    "s=\"sudh\""
   ]
  },
  {
   "cell_type": "code",
   "execution_count": 148,
   "id": "1d6f6983-7221-46b8-af27-c77b3c299564",
   "metadata": {},
   "outputs": [],
   "source": [
    "l4=[3,4,5,6]"
   ]
  },
  {
   "cell_type": "code",
   "execution_count": 149,
   "id": "5d547a99-7a7a-4ce9-bbb1-81929628de19",
   "metadata": {},
   "outputs": [
    {
     "data": {
      "text/plain": [
       "'sudh'"
      ]
     },
     "execution_count": 149,
     "metadata": {},
     "output_type": "execute_result"
    }
   ],
   "source": [
    "s"
   ]
  },
  {
   "cell_type": "code",
   "execution_count": 150,
   "id": "eabfc179-70af-4dd2-a36d-35fb1599454a",
   "metadata": {},
   "outputs": [
    {
     "ename": "TypeError",
     "evalue": "'str' object does not support item assignment",
     "output_type": "error",
     "traceback": [
      "\u001b[0;31m---------------------------------------------------------------------------\u001b[0m",
      "\u001b[0;31mTypeError\u001b[0m                                 Traceback (most recent call last)",
      "Cell \u001b[0;32mIn[150], line 1\u001b[0m\n\u001b[0;32m----> 1\u001b[0m \u001b[43ms\u001b[49m\u001b[43m[\u001b[49m\u001b[38;5;241;43m0\u001b[39;49m\u001b[43m]\u001b[49m\u001b[38;5;241m=\u001b[39m\u001b[38;5;124m\"\u001b[39m\u001b[38;5;124ma\u001b[39m\u001b[38;5;124m\"\u001b[39m\n",
      "\u001b[0;31mTypeError\u001b[0m: 'str' object does not support item assignment"
     ]
    }
   ],
   "source": [
    "s[0]=\"a\""
   ]
  },
  {
   "cell_type": "code",
   "execution_count": 151,
   "id": "a26026ea-270d-4f1f-980b-befb4fb543e4",
   "metadata": {},
   "outputs": [
    {
     "data": {
      "text/plain": [
       "[3, 4, 5, 6]"
      ]
     },
     "execution_count": 151,
     "metadata": {},
     "output_type": "execute_result"
    }
   ],
   "source": [
    "l4"
   ]
  },
  {
   "cell_type": "code",
   "execution_count": 152,
   "id": "53c025f4-6bc8-437f-b0f5-65204db0e8d2",
   "metadata": {},
   "outputs": [],
   "source": [
    "l4[0]=30"
   ]
  },
  {
   "cell_type": "code",
   "execution_count": 153,
   "id": "2595adfa-8c0c-4814-8bed-760ea6585fc2",
   "metadata": {},
   "outputs": [
    {
     "data": {
      "text/plain": [
       "[30, 4, 5, 6]"
      ]
     },
     "execution_count": 153,
     "metadata": {},
     "output_type": "execute_result"
    }
   ],
   "source": [
    "l4"
   ]
  },
  {
   "cell_type": "code",
   "execution_count": 154,
   "id": "291077c5-96f0-4836-8b56-01929ddd621b",
   "metadata": {},
   "outputs": [],
   "source": [
    "#in the string we cannot  repalce any item by useing index\n",
    "#this call immutability\n",
    "#but we can repalce any item in the list by useing index of the list so we can tell that \n",
    "#list is mutable but string is not mutable it follows mutability."
   ]
  },
  {
   "cell_type": "code",
   "execution_count": 155,
   "id": "9fbd8236-2aa7-4cea-aa7f-78a292399e63",
   "metadata": {},
   "outputs": [
    {
     "data": {
      "text/plain": [
       "'sudh'"
      ]
     },
     "execution_count": 155,
     "metadata": {},
     "output_type": "execute_result"
    }
   ],
   "source": [
    "s"
   ]
  },
  {
   "cell_type": "code",
   "execution_count": 156,
   "id": "bfab5393-80f4-4895-a230-ef71762e95c7",
   "metadata": {},
   "outputs": [
    {
     "data": {
      "text/plain": [
       "'such'"
      ]
     },
     "execution_count": 156,
     "metadata": {},
     "output_type": "execute_result"
    }
   ],
   "source": [
    "s.replace(\"d\",\"c\")"
   ]
  },
  {
   "cell_type": "code",
   "execution_count": 157,
   "id": "806e7baa-17e6-41cd-994a-1ffb920d1953",
   "metadata": {},
   "outputs": [
    {
     "data": {
      "text/plain": [
       "'sudh'"
      ]
     },
     "execution_count": 157,
     "metadata": {},
     "output_type": "execute_result"
    }
   ],
   "source": [
    "s"
   ]
  },
  {
   "cell_type": "code",
   "execution_count": 158,
   "id": "da4e1cde-9afb-4310-bea7-4c61c4fcedd3",
   "metadata": {},
   "outputs": [],
   "source": [
    "#original s is not change\n",
    "#we can replace but original is not change by useing reassignment .example will given below"
   ]
  },
  {
   "cell_type": "code",
   "execution_count": 159,
   "id": "cb99e272-f3ee-4887-95a8-9fe7b8d2d3a5",
   "metadata": {},
   "outputs": [],
   "source": [
    "s=s.replace(\"s\",\"a\")\n",
    "#reassignment(mutability property fail)\n",
    "#mutability property says useing index]"
   ]
  },
  {
   "cell_type": "code",
   "execution_count": 160,
   "id": "3423a149-8d8e-4f1b-8ad4-5e519f02e872",
   "metadata": {},
   "outputs": [
    {
     "data": {
      "text/plain": [
       "'audh'"
      ]
     },
     "execution_count": 160,
     "metadata": {},
     "output_type": "execute_result"
    }
   ],
   "source": [
    "s"
   ]
  },
  {
   "cell_type": "code",
   "execution_count": null,
   "id": "b7ed4a78-8947-4fe4-b750-ef3788eb6dad",
   "metadata": {},
   "outputs": [],
   "source": []
  }
 ],
 "metadata": {
  "kernelspec": {
   "display_name": "Python 3 (ipykernel)",
   "language": "python",
   "name": "python3"
  },
  "language_info": {
   "codemirror_mode": {
    "name": "ipython",
    "version": 3
   },
   "file_extension": ".py",
   "mimetype": "text/x-python",
   "name": "python",
   "nbconvert_exporter": "python",
   "pygments_lexer": "ipython3",
   "version": "3.10.8"
  }
 },
 "nbformat": 4,
 "nbformat_minor": 5
}
